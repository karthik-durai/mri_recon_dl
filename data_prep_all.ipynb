{
 "cells": [
  {
   "cell_type": "code",
   "execution_count": null,
   "id": "8e37105e",
   "metadata": {},
   "outputs": [],
   "source": [
    "import numpy as np\n",
    "from pathlib import Path\n",
    "import matplotlib.pyplot as plt"
   ]
  },
  {
   "cell_type": "code",
   "execution_count": null,
   "id": "423343f0",
   "metadata": {},
   "outputs": [],
   "source": [
    "def build_phase_kspace(phase_idx: int,\n",
    "                       data_dir: Path,\n",
    "                       nBH: int = 2):\n",
    "    \"\"\"\n",
    "    Assemble combined k-space for one cardiac phase by merging nBH breath holds.\n",
    "    \n",
    "    Returns:\n",
    "      kspace_phase_c: np.ndarray shaped (nCha, nCol, nLin, nPar)\n",
    "      mask_phase:     np.ndarray shaped (nLin, nPar), boolean sampling mask\n",
    "    \"\"\"\n",
    "    # --- dims & metadata ---\n",
    "    diminfo = np.fromfile(data_dir / \"u_DimInfo.raw\", dtype=np.uint32)\n",
    "    nCol, nLin, nPar, nPhs, nCha = diminfo[:5]\n",
    "\n",
    "    readout_array = []\n",
    "    readout_info  = []\n",
    "    for b in range(nBH):\n",
    "        ra = np.fromfile(data_dir / f\"u_readoutarray_{b}.raw\", dtype=np.uint32)\n",
    "        ri = np.fromfile(data_dir / f\"ri_ReadoutInfoData_{b}.raw\", dtype=np.int64).reshape(-1,5)\n",
    "        readout_array.append(ra)\n",
    "        readout_info.append(ri)\n",
    "\n",
    "    # --- load complex streams ---\n",
    "    def load_complex(path):\n",
    "        rawf = np.fromfile(path, dtype=np.float32)\n",
    "        return rawf.view(np.complex64)\n",
    "    \n",
    "    kspace_stream = []\n",
    "    for b in range(nBH):\n",
    "        ks = load_complex(data_dir / f\"cf_kspace_{b}.raw\")\n",
    "        kspace_stream.append(ks)\n",
    "\n",
    "    # --- build each BH volume ---\n",
    "    kspace_b = [\n",
    "        np.zeros((nCol, nLin, nPar, nCha), dtype=np.complex64)\n",
    "        for _ in range(nBH)\n",
    "    ]\n",
    "    for b in range(nBH):\n",
    "        ra = readout_array[b]\n",
    "        ri = readout_info[b]\n",
    "        ks = kspace_stream[b]\n",
    "\n",
    "        # how many readouts for this phase\n",
    "        n_reads    = ra[phase_idx]\n",
    "        base_reads = ra[:phase_idx].sum()\n",
    "        \n",
    "        for i in range(n_reads):\n",
    "            ky, kz = ri[base_reads + i, :2]\n",
    "            for c in range(nCha):\n",
    "                # compute offset into 1D stream\n",
    "                offset = (base_reads * nCha + c*n_reads + i) * nCol\n",
    "                seg    = ks[offset : offset + nCol]\n",
    "                # where to place\n",
    "                kspace_b[b][:, ky, kz, c] = seg\n",
    "\n",
    "    # --- merge BHs by first-wins union ---\n",
    "    kspace_phase = kspace_b[0].copy()\n",
    "    for b in range(1, nBH):\n",
    "        zero_locs = (np.abs(kspace_phase) == 0)\n",
    "        kspace_phase[zero_locs] = kspace_b[b][zero_locs]\n",
    "\n",
    "    return kspace_phase"
   ]
  },
  {
   "cell_type": "code",
   "execution_count": 7,
   "id": "32766c50",
   "metadata": {},
   "outputs": [],
   "source": [
    "data_dir = Path(\"./data\")\n",
    "# discover nPhs(number of phases) from the diminfo file\n",
    "diminfo = np.fromfile(data_dir / \"u_DimInfo.raw\", dtype=np.uint32)\n",
    "nPhs = int(diminfo[3])\n",
    "nBH = int(diminfo[5])\n",
    "\n",
    "all_kspaces = []\n",
    "all_masks   = []\n",
    "\n",
    "for ph in range(nPhs):\n",
    "    ksp_ph = build_phase_kspace(phase_idx=ph, data_dir=data_dir, nBH=nBH)\n",
    "    all_kspaces.append(ksp_ph)  # each is (nCol, nLin, nPar, nCha)\n",
    "\n",
    "# Stack into single arrays:\n",
    "# ksp: (nPhs, nCha, nCol, nLin, nPar)\n",
    "ksp_all_phases  = np.stack(all_kspaces, axis=0)\n",
    "# np.save('ksp_all_phases', ksp_all_phases)"
   ]
  },
  {
   "cell_type": "code",
   "execution_count": 11,
   "id": "b5a57b19",
   "metadata": {},
   "outputs": [
    {
     "name": "stdout",
     "output_type": "stream",
     "text": [
      "sens_map: (24, 160, 128, 72) mean|∑|S|²-1|= 8.768637e-08\n"
     ]
    }
   ],
   "source": [
    "# load coil sensitivity map\n",
    "csm_path = data_dir / \"cf_coil_sensitivity_AVG_0.raw\"\n",
    "raw = np.fromfile(csm_path, dtype=np.float32)\n",
    "if len(raw)%2:\n",
    "    print(f\"Warning: odd float count in {csm_path.name}\")\n",
    "cplx = raw.view(np.complex64)\n",
    "csm = cplx.reshape(ksp_all_phases[0].shape, order='F')  # (kx,ky,kz,coils)\n",
    "sens_map = np.moveaxis(csm, -1, 0)  \n",
    "sens_map = np.flip(np.flip(np.flip(sens_map, axis=1), axis=2), axis=3)\n",
    "\n",
    "ss = np.sqrt(np.sum(np.abs(sens_map)**2, axis=0)) + 1e-8\n",
    "sens_map /= ss\n",
    "\n",
    "print(\"sens_map:\", sens_map.shape, \"mean|∑|S|²-1|=\", np.mean(np.abs(np.sum(np.abs(sens_map)**2,0)-1)))"
   ]
  },
  {
   "cell_type": "code",
   "execution_count": 14,
   "id": "631d3b6f",
   "metadata": {},
   "outputs": [
    {
     "name": "stdout",
     "output_type": "stream",
     "text": [
      "(20, 24, 160, 128, 72)\n"
     ]
    }
   ],
   "source": [
    "# move phase to first dimension and coil to second dimension - P, C, X, Y, Z\n",
    "\n",
    "ksp_all_phases_c = np.array([np.moveaxis(i, -1, 0) for i in ksp_all_phases])\n",
    "print(ksp_all_phases_c.shape)"
   ]
  },
  {
   "cell_type": "code",
   "execution_count": 18,
   "id": "82a8a108",
   "metadata": {},
   "outputs": [
    {
     "name": "stdout",
     "output_type": "stream",
     "text": [
      "P=20, C=24, X=160, Y=128, Z=72\n",
      "Ω fraction per phase (mean±sd): 0.035 ± 0.000\n",
      "Any empty phases? False\n"
     ]
    }
   ],
   "source": [
    "# --- sanity on shapes/dtypes (adjust if yours differ) ---\n",
    "P, C, X, Y, Z = ksp_all_phases_c.shape\n",
    "\n",
    "# --- build Ω: acquired if any nonzero along coils & readout ---\n",
    "omega = (np.abs(ksp_all_phases_c).sum(axis=(1, 2)) > 0).astype(np.uint8)   # (P, Y, Z)\n",
    "\n",
    "# --- quick diagnostics ---\n",
    "frac_per_phase = omega.reshape(P, -1).mean(axis=1)          # fraction of Ω per phase\n",
    "print(f\"P={P}, C={C}, X={X}, Y={Y}, Z={Z}\")\n",
    "print(f\"Ω fraction per phase (mean±sd): {frac_per_phase.mean():.3f} ± {frac_per_phase.std():.3f}\")\n",
    "print(f\"Any empty phases? {np.any(frac_per_phase == 0.0)}\")"
   ]
  },
  {
   "cell_type": "code",
   "execution_count": 19,
   "id": "1aa23c92",
   "metadata": {},
   "outputs": [],
   "source": [
    "def split_theta_lam_val_from_omega(omega: np.ndarray, split_seed: int = 13,\n",
    "                                   ratios=(0.6, 0.2, 0.2)):\n",
    "    \"\"\"\n",
    "    omega: (P, Y, Z) bool/uint8 acquired grid per phase\n",
    "    returns: theta, lam, val (each (P, Y, Z) bool)\n",
    "    \"\"\"\n",
    "    assert abs(sum(ratios) - 1.0) < 1e-8, \"ratios must sum to 1\"\n",
    "    P, Y, Z = omega.shape\n",
    "    theta = np.zeros((P, Y, Z), dtype=bool)\n",
    "    lam   = np.zeros((P, Y, Z), dtype=bool)\n",
    "    val   = np.zeros((P, Y, Z), dtype=bool)\n",
    "\n",
    "    rng = np.random.default_rng(split_seed)\n",
    "\n",
    "    for p in range(P):\n",
    "        mask_p = omega[p].astype(bool)\n",
    "        flat_idx = np.flatnonzero(mask_p.ravel())\n",
    "        n = flat_idx.size\n",
    "        if n == 0:\n",
    "            continue\n",
    "\n",
    "        rng.shuffle(flat_idx)\n",
    "\n",
    "        n1 = int(np.floor(ratios[0] * n))  # Θ\n",
    "        n2 = int(np.floor(ratios[1] * n))  # Λ\n",
    "        # ensure all three subsets get something when feasible\n",
    "        if n >= 3:\n",
    "            n1 = max(1, n1)\n",
    "            n2 = max(1, n2)\n",
    "            if n1 + n2 >= n:\n",
    "                # pull back to leave at least 1 for Val\n",
    "                take = (n1 + n2) - (n - 1)\n",
    "                # reduce from the larger of n1/n2\n",
    "                if n1 >= n2:\n",
    "                    n1 -= take\n",
    "                else:\n",
    "                    n2 -= take\n",
    "                n1 = max(1, n1)\n",
    "                n2 = max(1, n2)\n",
    "        cut1 = n1\n",
    "        cut2 = n1 + n2\n",
    "        idx_theta, idx_lam, idx_val = np.split(flat_idx, [cut1, cut2])\n",
    "\n",
    "        # write back\n",
    "        th = theta[p].ravel(); th[idx_theta] = True\n",
    "        la = lam[p].ravel();   la[idx_lam]   = True\n",
    "        va = val[p].ravel();   va[idx_val]   = True\n",
    "\n",
    "    # ---- diagnostics\n",
    "    overlap_any = bool(np.any(theta & lam) or np.any(theta & val) or np.any(lam & val))\n",
    "    cover_all_ok = bool(np.all((theta | lam | val) == omega.astype(bool)))\n",
    "\n",
    "    # fractions over Ω per phase\n",
    "    denom = omega.astype(bool).sum(axis=(1, 2)).clip(min=1)  # avoid /0\n",
    "    frac_theta = (theta & omega.astype(bool)).sum(axis=(1, 2)) / denom\n",
    "    frac_lam   = (lam   & omega.astype(bool)).sum(axis=(1, 2)) / denom\n",
    "    frac_val   = (val   & omega.astype(bool)).sum(axis=(1, 2)) / denom\n",
    "\n",
    "    def ms(x):  # mean±sd string\n",
    "        return f\"{x.mean():.3f}±{x.std(ddof=0):.3f}\"\n",
    "\n",
    "    print(\"overlap_any:\", overlap_any)\n",
    "    print(\"cover_all_ok:\", cover_all_ok)\n",
    "    print(f\"Θ fraction over Ω (mean±sd): {ms(frac_theta)}\")\n",
    "    print(f\"Λ fraction over Ω (mean±sd): {ms(frac_lam)}\")\n",
    "    print(f\"Val fraction over Ω (mean±sd): {ms(frac_val)}\")\n",
    "\n",
    "    return theta, lam, val"
   ]
  },
  {
   "cell_type": "code",
   "execution_count": 20,
   "id": "17a3e1be",
   "metadata": {},
   "outputs": [
    {
     "name": "stdout",
     "output_type": "stream",
     "text": [
      "overlap_any: False\n",
      "cover_all_ok: True\n",
      "Θ fraction over Ω (mean±sd): 0.599±0.001\n",
      "Λ fraction over Ω (mean±sd): 0.199±0.001\n",
      "Val fraction over Ω (mean±sd): 0.202±0.002\n"
     ]
    }
   ],
   "source": [
    "split_seed = 1337\n",
    "theta, lam, val = split_theta_lam_val_from_omega(omega, split_seed=split_seed)"
   ]
  },
  {
   "cell_type": "code",
   "execution_count": 17,
   "id": "432e85cf",
   "metadata": {},
   "outputs": [
    {
     "name": "stdout",
     "output_type": "stream",
     "text": [
      "Θ fraction over Ω (mean±sd): 0.599±0.001\n",
      "Λ fraction over Ω (mean±sd): 0.199±0.001\n",
      "Val fraction over Ω (mean±sd): 0.202±0.002\n"
     ]
    }
   ],
   "source": [
    "P, C, X, Y, Z = ksp_all_phases_c.shape\n",
    "assert sens_map.shape == (C, X, Y, Z), f\"sens shape mismatch: {sens_map.shape} vs {(C,X,Y,Z)}\"\n",
    "for name, m in {\"omega\": omega, \"theta\": theta, \"lam\": lam, \"val\": val}.items():\n",
    "    assert m.shape == (P, Y, Z), f\"{name} mask shape mismatch: {m.shape} vs {(P,Y,Z)}\"\n",
    "\n",
    "# ---- sanity checks (disjoint + cover) ----\n",
    "overlap_any = np.any(theta & lam) or np.any(theta & val) or np.any(lam & val)\n",
    "assert not overlap_any, \"Masks overlap between Θ/Λ/Val!\"\n",
    "\n",
    "cover_all_ok = np.array_equal((theta | lam | val), omega)\n",
    "assert cover_all_ok, \"Θ ∪ Λ ∪ Val does not equal Ω!\"\n",
    "\n",
    "# fractions (optional log)\n",
    "frac = lambda m: m.sum(axis=(1,2)) / np.maximum(omega.sum(axis=(1,2)), 1)\n",
    "print(\"Θ fraction over Ω (mean±sd): %.3f±%.3f\" % (frac(theta).mean(), frac(theta).std()))\n",
    "print(\"Λ fraction over Ω (mean±sd): %.3f±%.3f\" % (frac(lam).mean(),   frac(lam).std()))\n",
    "print(\"Val fraction over Ω (mean±sd): %.3f±%.3f\" % (frac(val).mean(), frac(val).std()))"
   ]
  },
  {
   "cell_type": "code",
   "execution_count": 21,
   "id": "7e02f5cf",
   "metadata": {},
   "outputs": [
    {
     "name": "stdout",
     "output_type": "stream",
     "text": [
      "Saved → scan20_splits.npz\n"
     ]
    }
   ],
   "source": [
    "save_path = \"scan20_splits.npz\"\n",
    "np.savez_compressed(\n",
    "    save_path,\n",
    "    ksp = ksp_all_phases_c,                   # (P, C, X, Y, Z) complex64\n",
    "    sens   = sens_map,                           # (C, X, Y, Z)    complex64\n",
    "    theta  = theta.astype(np.uint8),             # (P, Y, Z)\n",
    "    lam    = lam.astype(np.uint8),               # (P, Y, Z)\n",
    "    val    = val.astype(np.uint8),               # (P, Y, Z)\n",
    "    omega  = omega.astype(np.uint8),             # (P, Y, Z)\n",
    "    split_seed = np.int64(split_seed),\n",
    ")\n",
    "print(f\"Saved → {save_path}\")"
   ]
  },
  {
   "cell_type": "code",
   "execution_count": 79,
   "id": "85bb94dc",
   "metadata": {},
   "outputs": [
    {
     "name": "stdout",
     "output_type": "stream",
     "text": [
      "Saved keys: ['ksp', 'sens', 'theta', 'lam', 'val', 'omega', 'split_seed']\n",
      "ksp shape: (20, 24, 160, 128, 72) complex64\n",
      "sens shape: (24, 160, 128, 72) complex64\n",
      "theta/lam/val: (20, 128, 72) (20, 128, 72) (20, 128, 72)\n",
      "omega: (20, 128, 72)\n",
      "split_seed: 1337\n"
     ]
    }
   ],
   "source": [
    "with np.load(save_path, allow_pickle=False) as npz:\n",
    "    print(\"Saved keys:\", list(npz.keys()))\n",
    "    print(\"ksp shape:\", npz[\"ksp\"].shape, npz[\"ksp\"].dtype)\n",
    "    print(\"sens shape:\", npz[\"sens\"].shape, npz[\"sens\"].dtype)\n",
    "    print(\"theta/lam/val:\", npz[\"theta\"].shape, npz[\"lam\"].shape, npz[\"val\"].shape)\n",
    "    print(\"omega:\", npz[\"omega\"].shape)\n",
    "    print(\"split_seed:\", int(npz[\"split_seed\"]))"
   ]
  },
  {
   "cell_type": "code",
   "execution_count": 23,
   "id": "3ad59252",
   "metadata": {},
   "outputs": [],
   "source": [
    "# to save mask as png\n",
    "def make_image(data, outputname, size=(5, 5), dpi=80):\n",
    "    fig = plt.figure()\n",
    "    fig.set_size_inches(size)\n",
    "    ax = plt.Axes(fig, [0., 0., 1., 1.])\n",
    "    ax.set_axis_off()\n",
    "    fig.add_axes(ax)\n",
    "    plt.set_cmap('hot')\n",
    "    ax.imshow(data, aspect='equal', cmap='Grays_r')\n",
    "    fig.set_facecolor('#000000')\n",
    "    plt.savefig(outputname, dpi=dpi)"
   ]
  },
  {
   "cell_type": "code",
   "execution_count": 78,
   "id": "65b47bc4",
   "metadata": {},
   "outputs": [
    {
     "data": {
      "image/png": "[encoded data removed]",
      "text/plain": [
       "<Figure size 1600x500 with 4 Axes>"
      ]
     },
     "metadata": {},
     "output_type": "display_data"
    }
   ],
   "source": [
    "fig, ((ax1, ax2, ax3, ax4)) = plt.subplots(nrows=1, ncols=4, sharex=True, sharey=True, figsize=(16, 5))\n",
    "p = np.random.randint(20)\n",
    "\n",
    "fig.suptitle(f'Phase {p}')\n",
    "\n",
    "undersampled_mask = np.fft.ifftshift(omega[p].astype(bool))\n",
    "train_mask = np.fft.ifftshift(theta[p])\n",
    "loss_mask = np.fft.ifftshift(lam[p])\n",
    "val_mask = np.fft.ifftshift(val[p])\n",
    "\n",
    "ax1.imshow(undersampled_mask, cmap='gray')\n",
    "ax1.set_title('full mask')\n",
    "ax1.set_axis_off()\n",
    "\n",
    "ax2.imshow(train_mask, cmap='gray')\n",
    "ax2.set_title('train mask')\n",
    "ax2.set_axis_off()\n",
    "\n",
    "ax3.imshow(loss_mask, cmap='gray')\n",
    "ax3.set_title('loss mask')\n",
    "ax3.set_axis_off()\n",
    "\n",
    "ax4.imshow(val_mask, cmap='gray')\n",
    "ax4.set_title('val mask')\n",
    "ax4.set_axis_off()\n",
    "\n",
    "plt.show()"
   ]
  }
 ],
 "metadata": {
  "kernelspec": {
   "display_name": "napari-env",
   "language": "python",
   "name": "python3"
  },
  "language_info": {
   "codemirror_mode": {
    "name": "ipython",
    "version": 3
   },
   "file_extension": ".py",
   "mimetype": "text/x-python",
   "name": "python",
   "nbconvert_exporter": "python",
   "pygments_lexer": "ipython3",
   "version": "3.11.13"
  }
 },
 "nbformat": 4,
 "nbformat_minor": 5
}
