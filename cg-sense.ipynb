{
 "cells": [
  {
   "cell_type": "code",
   "execution_count": 3,
   "id": "72bc982b",
   "metadata": {},
   "outputs": [],
   "source": [
    "import os\n",
    "import numpy as np\n",
    "import napari\n",
    "import time, os\n",
    "\n",
    "npz_path = \"scan20_splits.npz\"\n",
    "out_dir  = \"cg_baseline\"\n",
    "os.makedirs(out_dir, exist_ok=True)"
   ]
  },
  {
   "cell_type": "code",
   "execution_count": 4,
   "id": "e4a5c56f",
   "metadata": {},
   "outputs": [],
   "source": [
    "def fft3c(img):   # (..., X, Y, Z) -> k-space\n",
    "    return np.fft.fftn(img, axes=(-3, -2, -1), norm=\"ortho\")\n",
    "\n",
    "def ifft3c(ksp):  # (..., X, Y, Z) -> image\n",
    "    return np.fft.ifftn(ksp, axes=(-3, -2, -1), norm=\"ortho\")"
   ]
  },
  {
   "cell_type": "code",
   "execution_count": 5,
   "id": "77e1d4b7",
   "metadata": {},
   "outputs": [],
   "source": [
    "def A_omega(x, sens, mask_omega_yz):\n",
    "    X = x.shape[0]\n",
    "    m3d = np.broadcast_to(mask_omega_yz[None, :, :], (X, *mask_omega_yz.shape))  # (X,Y,Z)\n",
    "    xC  = x[None, ...] * sens                      # (C,X,Y,Z)\n",
    "    y   = fft3c(xC)                             # (C,X,Y,Z)\n",
    "    return y * m3d[None, ...]                      # (C,X,Y,Z)\n",
    "\n",
    "def AH_omega(y, sens, mask_omega_yz):\n",
    "    X = y.shape[1]\n",
    "    m3d = np.broadcast_to(mask_omega_yz[None, :, :], (X, *mask_omega_yz.shape))  # (X,Y,Z)\n",
    "    y    = y * m3d[None, ...]                     # (C,X,Y,Z)\n",
    "    imgC = ifft3c(y)                           # (C,X,Y,Z)\n",
    "    x    = np.sum(np.conj(sens) * imgC, axis=0)   # (X,Y,Z)\n",
    "    return x"
   ]
  },
  {
   "cell_type": "code",
   "execution_count": 6,
   "id": "23e62726",
   "metadata": {},
   "outputs": [],
   "source": [
    "def cg_solve(normal_op, b, lam, maxiter=40, tol=1e-6):\n",
    "    \"\"\"\n",
    "    Solve (N + lam*I) x = b with complex CG in NumPy.\n",
    "    normal_op(x) applies A^H Ω A to x (no λ inside).\n",
    "    \"\"\"\n",
    "    x = np.zeros_like(b)\n",
    "    r = b - (normal_op(x) + lam * x)\n",
    "    p = r.copy()\n",
    "    rs_old = np.vdot(r, r).real\n",
    "\n",
    "    for _ in range(maxiter):\n",
    "        Ap    = normal_op(p) + lam * p\n",
    "        denom = np.vdot(p, Ap).real\n",
    "        alpha = rs_old / max(denom, 1e-12)\n",
    "        x     = x + alpha * p\n",
    "        r     = r - alpha * Ap\n",
    "        rs_new = np.vdot(r, r).real\n",
    "        if np.sqrt(rs_new) < tol * np.sqrt(rs_old + 1e-20):\n",
    "            break\n",
    "        beta = rs_new / max(rs_old, 1e-20)\n",
    "        p    = r + beta * p\n",
    "        rs_old = rs_new\n",
    "    return x"
   ]
  },
  {
   "cell_type": "code",
   "execution_count": 7,
   "id": "004d9d19",
   "metadata": {},
   "outputs": [
    {
     "name": "stdout",
     "output_type": "stream",
     "text": [
      "Loaded: P=20, C=24, X=160, Y=128, Z=72\n"
     ]
    }
   ],
   "source": [
    "data = np.load(npz_path)\n",
    "ksp   = data[\"ksp\"]                  # (P,C,X,Y,Z) complex64\n",
    "sens  = data[\"sens\"]                 # (C,X,Y,Z)   complex64\n",
    "omega = data[\"omega\"].astype(bool)   # (P,Y,Z)     bool\n",
    "\n",
    "P, C, X, Y, Z = ksp.shape\n",
    "print(f\"Loaded: P={P}, C={C}, X={X}, Y={Y}, Z={Z}\")\n",
    "\n",
    "# Regularization & CG params\n",
    "lambda_cg = 1e-6\n",
    "cg_iters  = 40\n",
    "cg_tol    = 1e-6"
   ]
  },
  {
   "cell_type": "code",
   "execution_count": 8,
   "id": "99e09289",
   "metadata": {},
   "outputs": [
    {
     "name": "stdout",
     "output_type": "stream",
     "text": [
      "[phase 01] Ω_MSE=1.885e-09  Ωc_E=0.000e+00\n",
      "[phase 02] Ω_MSE=1.766e-09  Ωc_E=0.000e+00\n",
      "[phase 03] Ω_MSE=1.912e-09  Ωc_E=0.000e+00\n",
      "[phase 04] Ω_MSE=2.075e-09  Ωc_E=0.000e+00\n",
      "[phase 05] Ω_MSE=1.534e-09  Ωc_E=0.000e+00\n",
      "[phase 06] Ω_MSE=2.081e-09  Ωc_E=0.000e+00\n",
      "[phase 07] Ω_MSE=1.712e-09  Ωc_E=0.000e+00\n",
      "[phase 08] Ω_MSE=1.791e-09  Ωc_E=0.000e+00\n",
      "[phase 09] Ω_MSE=1.654e-09  Ωc_E=0.000e+00\n",
      "[phase 10] Ω_MSE=1.918e-09  Ωc_E=0.000e+00\n",
      "[phase 11] Ω_MSE=1.754e-09  Ωc_E=0.000e+00\n",
      "[phase 12] Ω_MSE=1.882e-09  Ωc_E=0.000e+00\n",
      "[phase 13] Ω_MSE=1.652e-09  Ωc_E=0.000e+00\n",
      "[phase 14] Ω_MSE=1.870e-09  Ωc_E=0.000e+00\n",
      "[phase 15] Ω_MSE=1.688e-09  Ωc_E=0.000e+00\n",
      "[phase 16] Ω_MSE=1.894e-09  Ωc_E=0.000e+00\n",
      "[phase 17] Ω_MSE=1.712e-09  Ωc_E=0.000e+00\n",
      "[phase 18] Ω_MSE=1.892e-09  Ωc_E=0.000e+00\n",
      "[phase 19] Ω_MSE=1.722e-09  Ωc_E=0.000e+00\n",
      "[phase 20] Ω_MSE=1.700e-09  Ωc_E=0.000e+00\n"
     ]
    }
   ],
   "source": [
    "omse_list, oce_list = [], []\n",
    "for p in range(P):\n",
    "    y_meas = ksp[p]        # (C,X,Y,Z)\n",
    "    mΩ_yz  = omega[p]      # (Y,Z) bool\n",
    "\n",
    "    # b = A^H Ω y\n",
    "    b = AH_omega(y_meas, sens, mΩ_yz)  # (X,Y,Z)\n",
    "\n",
    "    # normal op: N(x) = A^H Ω A x\n",
    "    def normal_op_np(x):\n",
    "        return AH_omega(A_omega(x, sens, mΩ_yz), sens, mΩ_yz)\n",
    "\n",
    "    # Solve (N + λI) x = b\n",
    "    x_rec = cg_solve(normal_op_np, b, lam=lambda_cg, maxiter=cg_iters, tol=cg_tol)  # (X,Y,Z)\n",
    "\n",
    "    # Metrics (Ω-MSE on acquired, Ω^c energy on unacquired)\n",
    "    m3d     = np.broadcast_to(mΩ_yz[None, :, :], (X, Y, Z))         # (X,Y,Z)\n",
    "    one_m3d = np.logical_not(m3d)\n",
    "\n",
    "    y_hat   = A_omega(x_rec, sens, mΩ_yz)                         # (C,X,Y,Z)\n",
    "    diff    = y_hat - (y_meas * m3d[None, ...])\n",
    "\n",
    "    sq_diff = (diff.real**2 + diff.imag**2)\n",
    "    sq_yhat = (y_hat.real**2 + y_hat.imag**2)\n",
    "\n",
    "    num_acq = int(m3d.sum()) * C\n",
    "    num_un  = int(one_m3d.sum()) * C\n",
    "\n",
    "    omse = (sq_diff * m3d[None, ...]).sum().item() / max(num_acq, 1)\n",
    "    oce  = (sq_yhat * one_m3d[None, ...]).sum().item() / max(num_un, 1)\n",
    "\n",
    "    omse_list.append(omse); oce_list.append(oce)\n",
    "    print(f\"[phase {p+1:02d}] Ω_MSE={omse:.3e}  Ωc_E={oce:.3e}\")\n",
    "\n",
    "    # Save |x| with fftshift ONLY IN IMAGE DOMAIN (center all three axes)\n",
    "    mag = np.abs(x_rec).astype(np.float32)                 # (X,Y,Z)\n",
    "    mag = np.fft.fftshift(mag, axes=(0, 1, 2))\n",
    "    np.save(os.path.join(out_dir, f\"phase_{p+1:02d}_cg_sos.npy\"), x_rec)"
   ]
  },
  {
   "cell_type": "code",
   "execution_count": 9,
   "id": "7b5a8b7a",
   "metadata": {},
   "outputs": [
    {
     "name": "stdout",
     "output_type": "stream",
     "text": [
      "\n",
      "λ_cg = 1.0e-06, iters=40, tol=1.0e-06\n",
      "Ω_MSE mean±sd = 1.805e-09 ± 1.375e-10\n",
      "Ωc_E  mean±sd = 0.000e+00 ± 0.000e+00\n",
      "Saved per-phase recon to: cg_baseline/phase_XX_cg_sos.npy\n"
     ]
    }
   ],
   "source": [
    "om = np.array(omse_list); oc = np.array(oce_list)\n",
    "print(f\"\\nλ_cg = {lambda_cg:.1e}, iters={cg_iters}, tol={cg_tol:.1e}\")\n",
    "print(f\"Ω_MSE mean±sd = {om.mean():.3e} ± {om.std():.3e}\")\n",
    "print(f\"Ωc_E  mean±sd = {oc.mean():.3e} ± {oc.std():.3e}\")\n",
    "print(f\"Saved per-phase recon to: {out_dir}/phase_XX_cg_sos.npy\")"
   ]
  },
  {
   "cell_type": "code",
   "execution_count": null,
   "id": "e75cd125",
   "metadata": {},
   "outputs": [],
   "source": [
    "recon = np.load('cg_baseline_numpy_3d/phase_17_cg_sos.npy')\n",
    "v1 = napari.Viewer()\n",
    "v1.add_image(np.abs(recon), name='phase_07_cg_sos')\n",
    "napari.run()"
   ]
  }
 ],
 "metadata": {
  "kernelspec": {
   "display_name": "napari-env",
   "language": "python",
   "name": "python3"
  },
  "language_info": {
   "codemirror_mode": {
    "name": "ipython",
    "version": 3
   },
   "file_extension": ".py",
   "mimetype": "text/x-python",
   "name": "python",
   "nbconvert_exporter": "python",
   "pygments_lexer": "ipython3",
   "version": "3.11.13"
  }
 },
 "nbformat": 4,
 "nbformat_minor": 5
}
